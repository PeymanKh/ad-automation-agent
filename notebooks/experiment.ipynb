{
 "cells": [
  {
   "metadata": {},
   "cell_type": "markdown",
   "source": [
    "# Experiments\n",
    "\n",
    "The goal of this notebook is to implement different components of the agent to understand how they should be implemented."
   ],
   "id": "2c1d48524e917dcd"
  },
  {
   "metadata": {
    "collapsed": true,
    "ExecuteTime": {
     "end_time": "2025-10-12T17:26:24.803237Z",
     "start_time": "2025-10-12T17:26:24.791408Z"
    }
   },
   "cell_type": "code",
   "source": [
    "# Import libraries\n",
    "import os\n",
    "import logging\n",
    "from enum import Enum\n",
    "from pydantic import BaseModel, Field\n",
    "from typing import Annotated, Dict, List, Optional, Union, Literal, Any\n",
    "\n",
    "from IPython.display import Image, display\n",
    "from langchain_core.tools import tool\n",
    "from langchain_openai import ChatOpenAI\n",
    "from langchain_tavily import TavilySearch\n",
    "from langchain_core.prompts import PromptTemplate\n",
    "from langgraph.checkpoint.memory import InMemorySaver\n",
    "from langgraph.prebuilt import ToolNode, tools_condition\n",
    "from langgraph.graph import StateGraph, START, END, add_messages\n",
    "from langchain_core.messages import SystemMessage, HumanMessage, BaseMessage\n",
    "\n",
    "from src.config.settings import settings"
   ],
   "id": "e8ba382df339daa1",
   "outputs": [],
   "execution_count": 37
  },
  {
   "metadata": {
    "ExecuteTime": {
     "end_time": "2025-10-12T15:40:06.418830Z",
     "start_time": "2025-10-12T15:40:06.415634Z"
    }
   },
   "cell_type": "code",
   "source": [
    "# Set langsmith project\n",
    "os.environ[\"LANGSMITH_API_KEY\"] = settings.langsmith_api_key.get_secret_value()\n",
    "os.environ[\"LANGCHAIN_TRACING_V2\"] = \"true\"\n",
    "os.environ[\"LANGCHAIN_PROJECT\"] = settings.app_name\n",
    "\n",
    "# Suppress all debug logs from urllib3 and langsmith\n",
    "logging.getLogger(\"urllib3\").setLevel(logging.WARNING)\n",
    "logging.getLogger(\"langsmith\").setLevel(logging.WARNING)\n",
    "logging.getLogger(\"openai._base_client\").setLevel(logging.WARNING)\n",
    "logging.getLogger(\"openai._base_client\").setLevel(logging.WARNING)\n",
    "logging.getLogger(\"httpcore\").setLevel(logging.WARNING)\n",
    "logging.getLogger(\"httpx\").setLevel(logging.WARNING)\n",
    "logging.getLogger(\"websockets.client\").setLevel(logging.WARNING)\n",
    "logging.getLogger(\"pyppeteer\").setLevel(logging.WARNING)"
   ],
   "id": "b1ef9a114e459ca1",
   "outputs": [],
   "execution_count": 2
  },
  {
   "metadata": {},
   "cell_type": "markdown",
   "source": [
    "---\n",
    "## Audience Research Agent\n",
    "\n",
    "This agent transforms generic demographics to deep psychological profile. It extracts core values, daily routines, behavioral patterns, pain points, emotional triggers, and decision-making process."
   ],
   "id": "77e4405c70d36cb0"
  },
  {
   "metadata": {
    "ExecuteTime": {
     "end_time": "2025-10-12T15:40:14.079263Z",
     "start_time": "2025-10-12T15:40:14.067009Z"
    }
   },
   "cell_type": "code",
   "source": [
    "# State\n",
    "class CampaignGoal(str, Enum):\n",
    "    \"\"\"Possible objectives for an advertising campaign\"\"\"\n",
    "    AWARENESS = 'awareness'\n",
    "    TRAFFIC = 'traffic'\n",
    "    ENGAGEMENT = 'engagement'\n",
    "    LEADS = 'leads'\n",
    "    APP_INSTALLS = 'app installs'\n",
    "\n",
    "\n",
    "class AdPlatform(str, Enum):\n",
    "    \"\"\"Specific ad placements across different social platforms\"\"\"\n",
    "    INSTAGRAM_REELS = \"instagram_reels\"\n",
    "    INSTAGRAM_STORY = \"instagram_video_story\"\n",
    "    FACEBOOK_FEEDS = \"facebook_feed\"\n",
    "    FACEBOOK_STORY = \"facebook_story\"\n",
    "    YOUTUBE_SHORT = \"youtube_short\"\n",
    "    TIKTOK_REELS = \"tiktok_reels\"\n",
    "\n",
    "\n",
    "class AudienceGender(str, Enum):\n",
    "    \"\"\"\n",
    "    Gender identity options for the target audience.\n",
    "    \"\"\"\n",
    "    MALE = \"male\"\n",
    "    FEMALE = \"female\"\n",
    "    ALL = \"male and female\"\n",
    "\n",
    "\n",
    "class AudienceLocation(str, Enum):\n",
    "    \"\"\"\n",
    "    Location options for the target audience.\n",
    "    \"\"\"\n",
    "    USA = \"united states\"\n",
    "    UK = \"united kingdom\"\n",
    "    CANADA = \"canada\"\n",
    "    AUSTRALIA = \"australia\"\n",
    "\n",
    "\n",
    "class AudienceIncomeRange(str, Enum):\n",
    "    \"\"\"\n",
    "    Income range categories for audience segmentation.\n",
    "    \"\"\"\n",
    "    LOW = \"<$30k\"\n",
    "    LOWER_MIDDLE = \"$30k–$60k\"\n",
    "    MIDDLE = \"$60k–$100k\"\n",
    "    UPPER_MIDDLE = \"$100k–$200k\"\n",
    "    HIGH = \">$200k\"\n",
    "\n",
    "\n",
    "class AudienceAgeRange(BaseModel):\n",
    "    min_age: int = Field(\n",
    "        ...,\n",
    "        description=\"Minimum age for the target audience\"\n",
    "    )\n",
    "    max_age: int = Field(\n",
    "        ...,\n",
    "        description=\"Maximum age for the target audience\"\n",
    "    )\n",
    "\n",
    "\n",
    "class ProductPlatform(str, Enum):\n",
    "    \"\"\"Mobile platforms supported by the product.\"\"\"\n",
    "    ios = \"ios\"\n",
    "    android = \"android\"\n",
    "    web=\"web\"\n",
    "\n",
    "\n",
    "class Product(BaseModel):\n",
    "    \"\"\"Product information\"\"\"\n",
    "    name: str = Field(\n",
    "        ...,\n",
    "        description=\"Name of the product\"\n",
    "    )\n",
    "    description: str = Field(\n",
    "        ...,\n",
    "        description=\"A brief overview of the product\"\n",
    "    )\n",
    "    features: Dict[str, str] = Field(\n",
    "        ...,\n",
    "        description=\"Dictionary mapping feature names to their description\"\n",
    "    )\n",
    "    supported_platforms: List[ProductPlatform] = Field(\n",
    "        ...,\n",
    "        description=\"Supported platforms for the application\"\n",
    "    )"
   ],
   "id": "e206b0b2357bac5f",
   "outputs": [],
   "execution_count": 3
  },
  {
   "metadata": {
    "ExecuteTime": {
     "end_time": "2025-10-12T15:40:26.301414Z",
     "start_time": "2025-10-12T15:40:26.285059Z"
    }
   },
   "cell_type": "code",
   "source": [
    "# Audience researcher output schema\n",
    "class AudienceProfile(BaseModel):\n",
    "    core_values: List[str] = Field(\n",
    "        ...,\n",
    "        description=\"The audience’s fundamental beliefs and priorities (e.g., privacy, convenience, achievement).\"\n",
    "    )\n",
    "    daily_routines: List[str] = Field(\n",
    "        ...,\n",
    "        description=\"Typical daily habits, recurring activities, or schedules common for this audience.\"\n",
    "    )\n",
    "    behavioral_patterns: List[str] = Field(\n",
    "        ...,\n",
    "        description=\"Frequent actions and tendencies in digital, social, or shopping behaviors.\"\n",
    "    )\n",
    "    pain_points: List[str] = Field(\n",
    "        ...,\n",
    "        description=\"Persistent frustrations, challenges, and unmet needs or desires for this group.\"\n",
    "    )\n",
    "    emotional_triggers: List[str] = Field(\n",
    "        ...,\n",
    "        description=\"Words, scenarios, or experiences that evoke strong emotions or reactions.\"\n",
    "    )\n",
    "    decision_process: List[str] = Field(\n",
    "        ...,\n",
    "        description=\"Typical steps, questions, and criteria used by the audience to make product or app choices.\"\n",
    "    )\n",
    "    summary: Optional[str] = Field(\n",
    "        ...,\n",
    "        description=\"Brief natural language summary highlighting the overall persona and mindset.\"\n",
    "    )"
   ],
   "id": "3b6adb9fbe89ae61",
   "outputs": [],
   "execution_count": 4
  },
  {
   "metadata": {
    "ExecuteTime": {
     "end_time": "2025-10-12T15:41:23.926543Z",
     "start_time": "2025-10-12T15:41:23.908511Z"
    }
   },
   "cell_type": "code",
   "source": [
    "class GraphState(BaseModel):\n",
    "    messages: Annotated[List[AnyMessage], add_messages] = Field(\n",
    "        [],\n",
    "        description=\"Messages for audience research agent\"\n",
    "    )\n",
    "    campaign_goal: CampaignGoal = Field(\n",
    "        ...,\n",
    "        description=\"Goal of the marketing campaign\"\n",
    "    )\n",
    "    ad_platform: AdPlatform = Field(\n",
    "        ...,\n",
    "        description=\"Platform for the advertisement\"\n",
    "    )\n",
    "    audience_gender: AudienceGender = Field(\n",
    "        ...,\n",
    "        description=\"Gender of the target audience\"\n",
    "    )\n",
    "    audience_location: AudienceLocation = Field(\n",
    "        ...,\n",
    "        description=\"Location of the target audience\"\n",
    "    )\n",
    "    audience_income_range: AudienceIncomeRange = Field(\n",
    "        ...,\n",
    "        description=\"Income range for the target audience\"\n",
    "    )\n",
    "    audience_age_range: AudienceAgeRange = Field(\n",
    "        ...,\n",
    "        description=\"Age range for the target audience\"\n",
    "    )\n",
    "    audience_interests: Optional[List[str]] = Field(\n",
    "        None,\n",
    "        description=\"List of interests for the target audience\"\n",
    "    )\n",
    "    product_details: Product = Field(\n",
    "        ...,\n",
    "        description=\"Details about the product\"\n",
    "    )\n",
    "    audience_profile: Optional[AudienceProfile] = Field(\n",
    "        None,\n",
    "        description=\"Result of audience researcher\"\n",
    "    )\n"
   ],
   "id": "b6d7fab134a93b58",
   "outputs": [],
   "execution_count": 7
  },
  {
   "metadata": {
    "ExecuteTime": {
     "end_time": "2025-10-12T15:42:18.250634Z",
     "start_time": "2025-10-12T15:42:18.238670Z"
    }
   },
   "cell_type": "code",
   "source": [
    "# Prompts\n",
    "audience_research_system_message = PromptTemplate(\n",
    "    template=\"\"\"You are an expert audience researcher, specialized in transforming basic demographics into rich psychological profiles for ad copywriting teams. Your job is to discover actionable insights about the audience’s core values, daily routines, behavioral patterns, pain points, emotional triggers, and decision-making processes.\n",
    "\n",
    "You have access to a websearch tool. The effectiveness of your research depends on crafting intelligent, targeted search queries—this is critical for high-quality results.\n",
    "\n",
    "You may use the search tool up to 5 times per task. Plan your queries carefully to maximize relevance and depth.\n",
    "\n",
    "**Goal:**\n",
    "Based on your findings, fill out every field of the AudienceProfile schema with clear, evidence-based information. Favor concise, actionable lists and summaries that copywriters can use directly.\n",
    "\n",
    "**Instructions:**\n",
    "- Start by reviewing the context provided by the user about the campaign and audience.\n",
    "- For each insight required (values, routines, patterns, pain points, emotional triggers, decision steps), create focused search queries and process results.\n",
    "- Synthesize your findings; do not copy/paste raw information from the web—always interpret and rephrase for clarity and usefulness.\n",
    "- Limit websearch tool calls to 5; prioritize quality over quantity.\n",
    "\n",
    "**Output Schema:**\n",
    "return your answer strictly using the 'build_audience_profile' tool.\n",
    "\"\"\"\n",
    ")\n",
    "\n",
    "audience_research_user_message = PromptTemplate(\n",
    "    input_variables=[\"campaign_goal\", \"ad_platform\", \"audience_gender\", \"audience_location\", \"audience_income_range\", \"audience_age_range\", \"audience_interests\", \"product_details\", \"product_platform\"],\n",
    "    template=\"\"\"Here is the context for your audience research task. Use these details to guide your information gathering and ensure your psychological profile is highly relevant.\n",
    "\n",
    "- **Campaign Goal:** {campaign_goal}\n",
    "- **Ad Platform:** {ad_platform}\n",
    "- **Audience Gender:** {audience_gender}\n",
    "- **Audience Location:** {audience_location}\n",
    "- **Audience Income Range:** {audience_income_range}\n",
    "- **Audience Age Range:** {audience_age_range}\n",
    "- **Audience Interests:** {audience_interests}\n",
    "- **Product Platform:** {product_platform}\n",
    "\n",
    "**Product(Digital Service) Details:**\n",
    "Name: {product_details.name}\n",
    "Description: {product_details.description}\n",
    "Features: {product_details.features}\n",
    "Supported Platforms: {product_details.supported_platforms}\n",
    "\"\"\"\n",
    ")"
   ],
   "id": "d76dd7ff93bb9026",
   "outputs": [],
   "execution_count": 8
  },
  {
   "metadata": {
    "ExecuteTime": {
     "end_time": "2025-10-12T15:42:25.486174Z",
     "start_time": "2025-10-12T15:42:24.867603Z"
    }
   },
   "cell_type": "code",
   "source": [
    "# Create LLM and bind tool\n",
    "llm = ChatOpenAI(api_key=settings.open_ai_api_key.get_secret_value(), model=\"gpt-4o\")"
   ],
   "id": "fa3dce57f7614f4b",
   "outputs": [],
   "execution_count": 9
  },
  {
   "metadata": {
    "ExecuteTime": {
     "end_time": "2025-10-12T15:42:38.016242Z",
     "start_time": "2025-10-12T15:42:38.008861Z"
    }
   },
   "cell_type": "code",
   "source": [
    "# Create the search tool\n",
    "search_tool = TavilySearch(tavily_api_key=settings.tavily_api_key.get_secret_value(), max_results=3)"
   ],
   "id": "5fd86cc0a6044a0e",
   "outputs": [],
   "execution_count": 10
  },
  {
   "metadata": {
    "ExecuteTime": {
     "end_time": "2025-10-12T15:45:40.549777Z",
     "start_time": "2025-10-12T15:45:40.541945Z"
    }
   },
   "cell_type": "code",
   "source": [
    "# Nodes\n",
    "def audience_research_node(state: GraphState):\n",
    "    messages = state.messages\n",
    "    campaign_goal = state.campaign_goal\n",
    "    ad_platform = state.ad_platform\n",
    "    audience_gender = state.audience_gender\n",
    "    audience_location = state.audience_location\n",
    "    audience_income_range = state.audience_income_range\n",
    "    audience_age_range = state.audience_age_range\n",
    "    audience_interests = state.audience_interests if state.audience_interests is not None else []\n",
    "    product_details = state.product_details\n",
    "    product_platform = product_details.supported_platforms\n",
    "\n",
    "    # Bind tools to the LLM\n",
    "    llm_with_tools = llm.bind_tools([search_tool])\n",
    "    # Specify the structured output\n",
    "\n",
    "    # Create prompt\n",
    "    system_message = SystemMessage(content=audience_research_system_message.format())\n",
    "    user_message = HumanMessage(content=audience_research_user_message.format(campaign_goal=campaign_goal, ad_platform=ad_platform, audience_gender=audience_gender, audience_location=audience_location, audience_income_range=audience_income_range, audience_age_range=audience_age_range, audience_interests=audience_interests, product_details=product_details, product_platform=product_platform))\n",
    "\n",
    "    # Create messages\n",
    "    if len(messages) == 0:\n",
    "        messages.append(system_message)\n",
    "        messages.append(user_message)\n",
    "\n",
    "    ai_message = llm_with_tools.invoke(messages)\n",
    "    print(ai_message)\n",
    "\n",
    "    return {\"audience_profile\": getattr(ai_message, \"content\", ai_message), \"messages\": messages}\n"
   ],
   "id": "8a3adf29a9830bf1",
   "outputs": [],
   "execution_count": 17
  },
  {
   "metadata": {
    "ExecuteTime": {
     "end_time": "2025-10-12T15:45:40.973812Z",
     "start_time": "2025-10-12T15:45:40.722406Z"
    }
   },
   "cell_type": "code",
   "source": [
    "# Graph\n",
    "audience_research_builder = StateGraph(GraphState)\n",
    "\n",
    "audience_research_builder.add_node(\"audience_research\", audience_research_node)\n",
    "audience_research_builder.add_node(\"tools\", ToolNode([search_tool]))\n",
    "\n",
    "audience_research_builder.add_edge(START, \"audience_research\")\n",
    "audience_research_builder.add_conditional_edges(\"audience_research\", tools_condition)\n",
    "audience_research_builder.add_edge(\"tools\", \"audience_research\")\n",
    "\n",
    "memory = InMemorySaver()\n",
    "audience_research_agent = audience_research_builder.compile(checkpointer=memory)\n",
    "\n",
    "display(Image(audience_research_agent.get_graph().draw_mermaid_png()))"
   ],
   "id": "c879ebc134665539",
   "outputs": [
    {
     "data": {
      "image/png": "[encoded data removed]",
      "text/plain": [
       "<IPython.core.display.Image object>"
      ]
     },
     "metadata": {},
     "output_type": "display_data",
     "jetTransient": {
      "display_id": null
     }
    }
   ],
   "execution_count": 18
  },
  {
   "metadata": {
    "ExecuteTime": {
     "end_time": "2025-10-12T15:45:40.987132Z",
     "start_time": "2025-10-12T15:45:40.983926Z"
    }
   },
   "cell_type": "code",
   "source": [
    "thread = {\"configurable\": {\"thread_id\": 1}}\n",
    "initial_state = GraphState(\n",
    "    campaign_goal=CampaignGoal.AWARENESS,\n",
    "    ad_platform=AdPlatform.INSTAGRAM_REELS,\n",
    "    audience_gender=AudienceGender.ALL,\n",
    "    audience_location=AudienceLocation.USA,\n",
    "    audience_income_range=AudienceIncomeRange.LOWER_MIDDLE,\n",
    "    audience_age_range=AudienceAgeRange(min_age=25, max_age=35),\n",
    "    product_details=Product(\n",
    "        name=\"Delisio- Your Personal Chef\",\n",
    "        description=\"Delisio is a personal chef and nutrition assistant. When a user signs up, they enter their age, weight, height, diet (e.g., vegan, keto), nutritional goal (e.g., weight loss, muscle gain), allergies, and equipments. Delisio then provides personalized recipes based on their preferences and taste preferences and uses AI to personalize user food experience\",\n",
    "        features={\n",
    "            \"Photo to Recipe\": \"Photo to Recipe: User uploads a photo of any dish, specify equipments, define calorie preference, and Delisio generates a personalized recipe tailored to their preferences\",\n",
    "            \"Surprise Me\": \"User selects meal type, cuisine, specify equipments, define calorie preference; Delisio generates a unique, personalized recipe (e.g., a vegetarian Chinese breakfast)\",\n",
    "            \"Nutrition Scanner\": \"User scans their food; Delisio analyzes and reports nutrients, vitamins, and minerals.\",\n",
    "        },\n",
    "        supported_platforms=[ProductPlatform.ios, ProductPlatform.android]\n",
    "    ),\n",
    ")"
   ],
   "id": "f718d84ca2cb5115",
   "outputs": [],
   "execution_count": 19
  },
  {
   "metadata": {
    "ExecuteTime": {
     "end_time": "2025-10-12T15:45:43.496833Z",
     "start_time": "2025-10-12T15:45:41.028720Z"
    }
   },
   "cell_type": "code",
   "source": [
    "for event in audience_research_agent.stream(initial_state, config=thread, stream_mode=\"updates\"):\n",
    "    print(event)"
   ],
   "id": "cac60d0da58957a",
   "outputs": [
    {
     "name": "stdout",
     "output_type": "stream",
     "text": [
      "content='' additional_kwargs={'tool_calls': [{'id': 'call_tyX46VbaSiOgZPBPID0VxDjs', 'function': {'arguments': '{\"query\": \"core values of American young adults aged 25-35 lower-middle income\", \"search_depth\": \"advanced\"}', 'name': 'tavily_search'}, 'type': 'function'}, {'id': 'call_rhcyIIBGtcBS4RPMAPJAbQrF', 'function': {'arguments': '{\"query\": \"daily routines of American young adults aged 25-35 lower-middle income\", \"search_depth\": \"advanced\"}', 'name': 'tavily_search'}, 'type': 'function'}], 'refusal': None} response_metadata={'token_usage': {'completion_tokens': 84, 'prompt_tokens': 1870, 'total_tokens': 1954, 'completion_tokens_details': {'accepted_prediction_tokens': 0, 'audio_tokens': 0, 'reasoning_tokens': 0, 'rejected_prediction_tokens': 0}, 'prompt_tokens_details': {'audio_tokens': 0, 'cached_tokens': 0}}, 'model_name': 'gpt-4o-2024-08-06', 'system_fingerprint': 'fp_f64f290af2', 'id': 'chatcmpl-CPsYQbzNbRZC1DFJSgm0kLvOadh2m', 'service_tier': 'default', 'finish_reason': 'tool_calls', 'logprobs': None} id='run--28534b0b-cc88-467e-952a-913f99b9de26-0' tool_calls=[{'name': 'tavily_search', 'args': {'query': 'core values of American young adults aged 25-35 lower-middle income', 'search_depth': 'advanced'}, 'id': 'call_tyX46VbaSiOgZPBPID0VxDjs', 'type': 'tool_call'}, {'name': 'tavily_search', 'args': {'query': 'daily routines of American young adults aged 25-35 lower-middle income', 'search_depth': 'advanced'}, 'id': 'call_rhcyIIBGtcBS4RPMAPJAbQrF', 'type': 'tool_call'}] usage_metadata={'input_tokens': 1870, 'output_tokens': 84, 'total_tokens': 1954, 'input_token_details': {'audio': 0, 'cache_read': 0}, 'output_token_details': {'audio': 0, 'reasoning': 0}}\n"
     ]
    },
    {
     "ename": "ValidationError",
     "evalue": "1 validation error for GraphState\naudience_profile\n  Input should be a valid dictionary or instance of AudienceProfile [type=model_type, input_value='', input_type=str]\n    For further information visit https://errors.pydantic.dev/2.12/v/model_type",
     "output_type": "error",
     "traceback": [
      "\u001B[31m---------------------------------------------------------------------------\u001B[39m",
      "\u001B[31mValidationError\u001B[39m                           Traceback (most recent call last)",
      "\u001B[36mCell\u001B[39m\u001B[36m \u001B[39m\u001B[32mIn[20]\u001B[39m\u001B[32m, line 1\u001B[39m\n\u001B[32m----> \u001B[39m\u001B[32m1\u001B[39m \u001B[38;5;28;43;01mfor\u001B[39;49;00m\u001B[43m \u001B[49m\u001B[43mevent\u001B[49m\u001B[43m \u001B[49m\u001B[38;5;129;43;01min\u001B[39;49;00m\u001B[43m \u001B[49m\u001B[43maudience_research_agent\u001B[49m\u001B[43m.\u001B[49m\u001B[43mstream\u001B[49m\u001B[43m(\u001B[49m\u001B[43minitial_state\u001B[49m\u001B[43m,\u001B[49m\u001B[43m \u001B[49m\u001B[43mconfig\u001B[49m\u001B[43m=\u001B[49m\u001B[43mthread\u001B[49m\u001B[43m,\u001B[49m\u001B[43m \u001B[49m\u001B[43mstream_mode\u001B[49m\u001B[43m=\u001B[49m\u001B[33;43m\"\u001B[39;49m\u001B[33;43mupdates\u001B[39;49m\u001B[33;43m\"\u001B[39;49m\u001B[43m)\u001B[49m\u001B[43m:\u001B[49m\n\u001B[32m      2\u001B[39m \u001B[43m    \u001B[49m\u001B[38;5;28;43mprint\u001B[39;49m\u001B[43m(\u001B[49m\u001B[43mevent\u001B[49m\u001B[43m)\u001B[49m\n",
      "\u001B[36mFile \u001B[39m\u001B[32m~/Documents/GitHub/ad-automation-agent/.venv/lib/python3.11/site-packages/langgraph/pregel/main.py:2674\u001B[39m, in \u001B[36mPregel.stream\u001B[39m\u001B[34m(self, input, config, context, stream_mode, print_mode, output_keys, interrupt_before, interrupt_after, durability, subgraphs, debug, **kwargs)\u001B[39m\n\u001B[32m   2672\u001B[39m \u001B[38;5;28;01mfor\u001B[39;00m task \u001B[38;5;129;01min\u001B[39;00m loop.match_cached_writes():\n\u001B[32m   2673\u001B[39m     loop.output_writes(task.id, task.writes, cached=\u001B[38;5;28;01mTrue\u001B[39;00m)\n\u001B[32m-> \u001B[39m\u001B[32m2674\u001B[39m \u001B[43m\u001B[49m\u001B[38;5;28;43;01mfor\u001B[39;49;00m\u001B[43m \u001B[49m\u001B[43m_\u001B[49m\u001B[43m \u001B[49m\u001B[38;5;129;43;01min\u001B[39;49;00m\u001B[43m \u001B[49m\u001B[43mrunner\u001B[49m\u001B[43m.\u001B[49m\u001B[43mtick\u001B[49m\u001B[43m(\u001B[49m\n\u001B[32m   2675\u001B[39m \u001B[43m    \u001B[49m\u001B[43m[\u001B[49m\u001B[43mt\u001B[49m\u001B[43m \u001B[49m\u001B[38;5;28;43;01mfor\u001B[39;49;00m\u001B[43m \u001B[49m\u001B[43mt\u001B[49m\u001B[43m \u001B[49m\u001B[38;5;129;43;01min\u001B[39;49;00m\u001B[43m \u001B[49m\u001B[43mloop\u001B[49m\u001B[43m.\u001B[49m\u001B[43mtasks\u001B[49m\u001B[43m.\u001B[49m\u001B[43mvalues\u001B[49m\u001B[43m(\u001B[49m\u001B[43m)\u001B[49m\u001B[43m \u001B[49m\u001B[38;5;28;43;01mif\u001B[39;49;00m\u001B[43m \u001B[49m\u001B[38;5;129;43;01mnot\u001B[39;49;00m\u001B[43m \u001B[49m\u001B[43mt\u001B[49m\u001B[43m.\u001B[49m\u001B[43mwrites\u001B[49m\u001B[43m]\u001B[49m\u001B[43m,\u001B[49m\n\u001B[32m   2676\u001B[39m \u001B[43m    \u001B[49m\u001B[43mtimeout\u001B[49m\u001B[43m=\u001B[49m\u001B[38;5;28;43mself\u001B[39;49m\u001B[43m.\u001B[49m\u001B[43mstep_timeout\u001B[49m\u001B[43m,\u001B[49m\n\u001B[32m   2677\u001B[39m \u001B[43m    \u001B[49m\u001B[43mget_waiter\u001B[49m\u001B[43m=\u001B[49m\u001B[43mget_waiter\u001B[49m\u001B[43m,\u001B[49m\n\u001B[32m   2678\u001B[39m \u001B[43m    \u001B[49m\u001B[43mschedule_task\u001B[49m\u001B[43m=\u001B[49m\u001B[43mloop\u001B[49m\u001B[43m.\u001B[49m\u001B[43maccept_push\u001B[49m\u001B[43m,\u001B[49m\n\u001B[32m   2679\u001B[39m \u001B[43m\u001B[49m\u001B[43m)\u001B[49m\u001B[43m:\u001B[49m\n\u001B[32m   2680\u001B[39m \u001B[43m    \u001B[49m\u001B[38;5;66;43;03m# emit output\u001B[39;49;00m\n\u001B[32m   2681\u001B[39m \u001B[43m    \u001B[49m\u001B[38;5;28;43;01myield from\u001B[39;49;00m\u001B[43m \u001B[49m\u001B[43m_output\u001B[49m\u001B[43m(\u001B[49m\n\u001B[32m   2682\u001B[39m \u001B[43m        \u001B[49m\u001B[43mstream_mode\u001B[49m\u001B[43m,\u001B[49m\u001B[43m \u001B[49m\u001B[43mprint_mode\u001B[49m\u001B[43m,\u001B[49m\u001B[43m \u001B[49m\u001B[43msubgraphs\u001B[49m\u001B[43m,\u001B[49m\u001B[43m \u001B[49m\u001B[43mstream\u001B[49m\u001B[43m.\u001B[49m\u001B[43mget\u001B[49m\u001B[43m,\u001B[49m\u001B[43m \u001B[49m\u001B[43mqueue\u001B[49m\u001B[43m.\u001B[49m\u001B[43mEmpty\u001B[49m\n\u001B[32m   2683\u001B[39m \u001B[43m    \u001B[49m\u001B[43m)\u001B[49m\n\u001B[32m   2684\u001B[39m loop.after_tick()\n",
      "\u001B[36mFile \u001B[39m\u001B[32m~/Documents/GitHub/ad-automation-agent/.venv/lib/python3.11/site-packages/langgraph/pregel/_runner.py:162\u001B[39m, in \u001B[36mPregelRunner.tick\u001B[39m\u001B[34m(self, tasks, reraise, timeout, retry_policy, get_waiter, schedule_task)\u001B[39m\n\u001B[32m    160\u001B[39m t = tasks[\u001B[32m0\u001B[39m]\n\u001B[32m    161\u001B[39m \u001B[38;5;28;01mtry\u001B[39;00m:\n\u001B[32m--> \u001B[39m\u001B[32m162\u001B[39m     \u001B[43mrun_with_retry\u001B[49m\u001B[43m(\u001B[49m\n\u001B[32m    163\u001B[39m \u001B[43m        \u001B[49m\u001B[43mt\u001B[49m\u001B[43m,\u001B[49m\n\u001B[32m    164\u001B[39m \u001B[43m        \u001B[49m\u001B[43mretry_policy\u001B[49m\u001B[43m,\u001B[49m\n\u001B[32m    165\u001B[39m \u001B[43m        \u001B[49m\u001B[43mconfigurable\u001B[49m\u001B[43m=\u001B[49m\u001B[43m{\u001B[49m\n\u001B[32m    166\u001B[39m \u001B[43m            \u001B[49m\u001B[43mCONFIG_KEY_CALL\u001B[49m\u001B[43m:\u001B[49m\u001B[43m \u001B[49m\u001B[43mpartial\u001B[49m\u001B[43m(\u001B[49m\n\u001B[32m    167\u001B[39m \u001B[43m                \u001B[49m\u001B[43m_call\u001B[49m\u001B[43m,\u001B[49m\n\u001B[32m    168\u001B[39m \u001B[43m                \u001B[49m\u001B[43mweakref\u001B[49m\u001B[43m.\u001B[49m\u001B[43mref\u001B[49m\u001B[43m(\u001B[49m\u001B[43mt\u001B[49m\u001B[43m)\u001B[49m\u001B[43m,\u001B[49m\n\u001B[32m    169\u001B[39m \u001B[43m                \u001B[49m\u001B[43mretry_policy\u001B[49m\u001B[43m=\u001B[49m\u001B[43mretry_policy\u001B[49m\u001B[43m,\u001B[49m\n\u001B[32m    170\u001B[39m \u001B[43m                \u001B[49m\u001B[43mfutures\u001B[49m\u001B[43m=\u001B[49m\u001B[43mweakref\u001B[49m\u001B[43m.\u001B[49m\u001B[43mref\u001B[49m\u001B[43m(\u001B[49m\u001B[43mfutures\u001B[49m\u001B[43m)\u001B[49m\u001B[43m,\u001B[49m\n\u001B[32m    171\u001B[39m \u001B[43m                \u001B[49m\u001B[43mschedule_task\u001B[49m\u001B[43m=\u001B[49m\u001B[43mschedule_task\u001B[49m\u001B[43m,\u001B[49m\n\u001B[32m    172\u001B[39m \u001B[43m                \u001B[49m\u001B[43msubmit\u001B[49m\u001B[43m=\u001B[49m\u001B[38;5;28;43mself\u001B[39;49m\u001B[43m.\u001B[49m\u001B[43msubmit\u001B[49m\u001B[43m,\u001B[49m\n\u001B[32m    173\u001B[39m \u001B[43m            \u001B[49m\u001B[43m)\u001B[49m\u001B[43m,\u001B[49m\n\u001B[32m    174\u001B[39m \u001B[43m        \u001B[49m\u001B[43m}\u001B[49m\u001B[43m,\u001B[49m\n\u001B[32m    175\u001B[39m \u001B[43m    \u001B[49m\u001B[43m)\u001B[49m\n\u001B[32m    176\u001B[39m     \u001B[38;5;28mself\u001B[39m.commit(t, \u001B[38;5;28;01mNone\u001B[39;00m)\n\u001B[32m    177\u001B[39m \u001B[38;5;28;01mexcept\u001B[39;00m \u001B[38;5;167;01mException\u001B[39;00m \u001B[38;5;28;01mas\u001B[39;00m exc:\n",
      "\u001B[36mFile \u001B[39m\u001B[32m~/Documents/GitHub/ad-automation-agent/.venv/lib/python3.11/site-packages/langgraph/pregel/_retry.py:42\u001B[39m, in \u001B[36mrun_with_retry\u001B[39m\u001B[34m(task, retry_policy, configurable)\u001B[39m\n\u001B[32m     40\u001B[39m     task.writes.clear()\n\u001B[32m     41\u001B[39m     \u001B[38;5;66;03m# run the task\u001B[39;00m\n\u001B[32m---> \u001B[39m\u001B[32m42\u001B[39m     \u001B[38;5;28;01mreturn\u001B[39;00m \u001B[43mtask\u001B[49m\u001B[43m.\u001B[49m\u001B[43mproc\u001B[49m\u001B[43m.\u001B[49m\u001B[43minvoke\u001B[49m\u001B[43m(\u001B[49m\u001B[43mtask\u001B[49m\u001B[43m.\u001B[49m\u001B[43minput\u001B[49m\u001B[43m,\u001B[49m\u001B[43m \u001B[49m\u001B[43mconfig\u001B[49m\u001B[43m)\u001B[49m\n\u001B[32m     43\u001B[39m \u001B[38;5;28;01mexcept\u001B[39;00m ParentCommand \u001B[38;5;28;01mas\u001B[39;00m exc:\n\u001B[32m     44\u001B[39m     ns: \u001B[38;5;28mstr\u001B[39m = config[CONF][CONFIG_KEY_CHECKPOINT_NS]\n",
      "\u001B[36mFile \u001B[39m\u001B[32m~/Documents/GitHub/ad-automation-agent/.venv/lib/python3.11/site-packages/langgraph/_internal/_runnable.py:659\u001B[39m, in \u001B[36mRunnableSeq.invoke\u001B[39m\u001B[34m(self, input, config, **kwargs)\u001B[39m\n\u001B[32m    657\u001B[39m                 \u001B[38;5;28minput\u001B[39m = context.run(step.invoke, \u001B[38;5;28minput\u001B[39m, config, **kwargs)\n\u001B[32m    658\u001B[39m         \u001B[38;5;28;01melse\u001B[39;00m:\n\u001B[32m--> \u001B[39m\u001B[32m659\u001B[39m             \u001B[38;5;28minput\u001B[39m = \u001B[43mstep\u001B[49m\u001B[43m.\u001B[49m\u001B[43minvoke\u001B[49m\u001B[43m(\u001B[49m\u001B[38;5;28;43minput\u001B[39;49m\u001B[43m,\u001B[49m\u001B[43m \u001B[49m\u001B[43mconfig\u001B[49m\u001B[43m)\u001B[49m\n\u001B[32m    660\u001B[39m \u001B[38;5;66;03m# finish the root run\u001B[39;00m\n\u001B[32m    661\u001B[39m \u001B[38;5;28;01mexcept\u001B[39;00m \u001B[38;5;167;01mBaseException\u001B[39;00m \u001B[38;5;28;01mas\u001B[39;00m e:\n",
      "\u001B[36mFile \u001B[39m\u001B[32m~/Documents/GitHub/ad-automation-agent/.venv/lib/python3.11/site-packages/langgraph/_internal/_runnable.py:401\u001B[39m, in \u001B[36mRunnableCallable.invoke\u001B[39m\u001B[34m(self, input, config, **kwargs)\u001B[39m\n\u001B[32m    399\u001B[39m         run_manager.on_chain_end(ret)\n\u001B[32m    400\u001B[39m \u001B[38;5;28;01melse\u001B[39;00m:\n\u001B[32m--> \u001B[39m\u001B[32m401\u001B[39m     ret = \u001B[38;5;28;43mself\u001B[39;49m\u001B[43m.\u001B[49m\u001B[43mfunc\u001B[49m\u001B[43m(\u001B[49m\u001B[43m*\u001B[49m\u001B[43margs\u001B[49m\u001B[43m,\u001B[49m\u001B[43m \u001B[49m\u001B[43m*\u001B[49m\u001B[43m*\u001B[49m\u001B[43mkwargs\u001B[49m\u001B[43m)\u001B[49m\n\u001B[32m    402\u001B[39m \u001B[38;5;28;01mif\u001B[39;00m \u001B[38;5;28mself\u001B[39m.recurse \u001B[38;5;129;01mand\u001B[39;00m \u001B[38;5;28misinstance\u001B[39m(ret, Runnable):\n\u001B[32m    403\u001B[39m     \u001B[38;5;28;01mreturn\u001B[39;00m ret.invoke(\u001B[38;5;28minput\u001B[39m, config)\n",
      "\u001B[36mFile \u001B[39m\u001B[32m~/Documents/GitHub/ad-automation-agent/.venv/lib/python3.11/site-packages/langgraph/graph/_branch.py:157\u001B[39m, in \u001B[36mBranchSpec._route\u001B[39m\u001B[34m(self, input, config, reader, writer)\u001B[39m\n\u001B[32m    148\u001B[39m \u001B[38;5;28;01mdef\u001B[39;00m\u001B[38;5;250m \u001B[39m\u001B[34m_route\u001B[39m(\n\u001B[32m    149\u001B[39m     \u001B[38;5;28mself\u001B[39m,\n\u001B[32m    150\u001B[39m     \u001B[38;5;28minput\u001B[39m: Any,\n\u001B[32m   (...)\u001B[39m\u001B[32m    154\u001B[39m     writer: _Writer,\n\u001B[32m    155\u001B[39m ) -> Runnable:\n\u001B[32m    156\u001B[39m     \u001B[38;5;28;01mif\u001B[39;00m reader:\n\u001B[32m--> \u001B[39m\u001B[32m157\u001B[39m         value = \u001B[43mreader\u001B[49m\u001B[43m(\u001B[49m\u001B[43mconfig\u001B[49m\u001B[43m)\u001B[49m\n\u001B[32m    158\u001B[39m         \u001B[38;5;66;03m# passthrough additional keys from node to branch\u001B[39;00m\n\u001B[32m    159\u001B[39m         \u001B[38;5;66;03m# only doable when using dict states\u001B[39;00m\n\u001B[32m    160\u001B[39m         \u001B[38;5;28;01mif\u001B[39;00m (\n\u001B[32m    161\u001B[39m             \u001B[38;5;28misinstance\u001B[39m(value, \u001B[38;5;28mdict\u001B[39m)\n\u001B[32m    162\u001B[39m             \u001B[38;5;129;01mand\u001B[39;00m \u001B[38;5;28misinstance\u001B[39m(\u001B[38;5;28minput\u001B[39m, \u001B[38;5;28mdict\u001B[39m)\n\u001B[32m    163\u001B[39m             \u001B[38;5;129;01mand\u001B[39;00m \u001B[38;5;28mself\u001B[39m.input_schema \u001B[38;5;129;01mis\u001B[39;00m \u001B[38;5;28;01mNone\u001B[39;00m\n\u001B[32m    164\u001B[39m         ):\n",
      "\u001B[36mFile \u001B[39m\u001B[32m~/Documents/GitHub/ad-automation-agent/.venv/lib/python3.11/site-packages/langgraph/pregel/_read.py:89\u001B[39m, in \u001B[36mChannelRead.do_read\u001B[39m\u001B[34m(config, select, fresh, mapper)\u001B[39m\n\u001B[32m     84\u001B[39m     \u001B[38;5;28;01mraise\u001B[39;00m \u001B[38;5;167;01mRuntimeError\u001B[39;00m(\n\u001B[32m     85\u001B[39m         \u001B[33m\"\u001B[39m\u001B[33mNot configured with a read function\u001B[39m\u001B[33m\"\u001B[39m\n\u001B[32m     86\u001B[39m         \u001B[33m\"\u001B[39m\u001B[33mMake sure to call in the context of a Pregel process\u001B[39m\u001B[33m\"\u001B[39m\n\u001B[32m     87\u001B[39m     )\n\u001B[32m     88\u001B[39m \u001B[38;5;28;01mif\u001B[39;00m mapper:\n\u001B[32m---> \u001B[39m\u001B[32m89\u001B[39m     \u001B[38;5;28;01mreturn\u001B[39;00m \u001B[43mmapper\u001B[49m\u001B[43m(\u001B[49m\u001B[43mread\u001B[49m\u001B[43m(\u001B[49m\u001B[43mselect\u001B[49m\u001B[43m,\u001B[49m\u001B[43m \u001B[49m\u001B[43mfresh\u001B[49m\u001B[43m)\u001B[49m\u001B[43m)\u001B[49m\n\u001B[32m     90\u001B[39m \u001B[38;5;28;01melse\u001B[39;00m:\n\u001B[32m     91\u001B[39m     \u001B[38;5;28;01mreturn\u001B[39;00m read(select, fresh)\n",
      "\u001B[36mFile \u001B[39m\u001B[32m~/Documents/GitHub/ad-automation-agent/.venv/lib/python3.11/site-packages/langgraph/graph/state.py:1239\u001B[39m, in \u001B[36m_coerce_state\u001B[39m\u001B[34m(schema, input)\u001B[39m\n\u001B[32m   1238\u001B[39m \u001B[38;5;28;01mdef\u001B[39;00m\u001B[38;5;250m \u001B[39m\u001B[34m_coerce_state\u001B[39m(schema: \u001B[38;5;28mtype\u001B[39m[Any], \u001B[38;5;28minput\u001B[39m: \u001B[38;5;28mdict\u001B[39m[\u001B[38;5;28mstr\u001B[39m, Any]) -> \u001B[38;5;28mdict\u001B[39m[\u001B[38;5;28mstr\u001B[39m, Any]:\n\u001B[32m-> \u001B[39m\u001B[32m1239\u001B[39m     \u001B[38;5;28;01mreturn\u001B[39;00m \u001B[43mschema\u001B[49m\u001B[43m(\u001B[49m\u001B[43m*\u001B[49m\u001B[43m*\u001B[49m\u001B[38;5;28;43minput\u001B[39;49m\u001B[43m)\u001B[49m\n",
      "\u001B[36mFile \u001B[39m\u001B[32m~/Documents/GitHub/ad-automation-agent/.venv/lib/python3.11/site-packages/pydantic/main.py:250\u001B[39m, in \u001B[36mBaseModel.__init__\u001B[39m\u001B[34m(self, **data)\u001B[39m\n\u001B[32m    248\u001B[39m \u001B[38;5;66;03m# `__tracebackhide__` tells pytest and some other tools to omit this function from tracebacks\u001B[39;00m\n\u001B[32m    249\u001B[39m __tracebackhide__ = \u001B[38;5;28;01mTrue\u001B[39;00m\n\u001B[32m--> \u001B[39m\u001B[32m250\u001B[39m validated_self = \u001B[38;5;28;43mself\u001B[39;49m\u001B[43m.\u001B[49m\u001B[43m__pydantic_validator__\u001B[49m\u001B[43m.\u001B[49m\u001B[43mvalidate_python\u001B[49m\u001B[43m(\u001B[49m\u001B[43mdata\u001B[49m\u001B[43m,\u001B[49m\u001B[43m \u001B[49m\u001B[43mself_instance\u001B[49m\u001B[43m=\u001B[49m\u001B[38;5;28;43mself\u001B[39;49m\u001B[43m)\u001B[49m\n\u001B[32m    251\u001B[39m \u001B[38;5;28;01mif\u001B[39;00m \u001B[38;5;28mself\u001B[39m \u001B[38;5;129;01mis\u001B[39;00m \u001B[38;5;129;01mnot\u001B[39;00m validated_self:\n\u001B[32m    252\u001B[39m     warnings.warn(\n\u001B[32m    253\u001B[39m         \u001B[33m'\u001B[39m\u001B[33mA custom validator is returning a value other than `self`.\u001B[39m\u001B[38;5;130;01m\\n\u001B[39;00m\u001B[33m'\u001B[39m\n\u001B[32m    254\u001B[39m         \u001B[33m\"\u001B[39m\u001B[33mReturning anything other than `self` from a top level model validator isn\u001B[39m\u001B[33m'\u001B[39m\u001B[33mt supported when validating via `__init__`.\u001B[39m\u001B[38;5;130;01m\\n\u001B[39;00m\u001B[33m\"\u001B[39m\n\u001B[32m    255\u001B[39m         \u001B[33m'\u001B[39m\u001B[33mSee the `model_validator` docs (https://docs.pydantic.dev/latest/concepts/validators/#model-validators) for more details.\u001B[39m\u001B[33m'\u001B[39m,\n\u001B[32m    256\u001B[39m         stacklevel=\u001B[32m2\u001B[39m,\n\u001B[32m    257\u001B[39m     )\n",
      "\u001B[31mValidationError\u001B[39m: 1 validation error for GraphState\naudience_profile\n  Input should be a valid dictionary or instance of AudienceProfile [type=model_type, input_value='', input_type=str]\n    For further information visit https://errors.pydantic.dev/2.12/v/model_type",
      "During task with name 'audience_research' and id '32433911-9fd9-3b0b-2595-c3fc0e4ccac2'"
     ]
    }
   ],
   "execution_count": 20
  },
  {
   "metadata": {
    "ExecuteTime": {
     "end_time": "2025-10-12T17:25:53.126791Z",
     "start_time": "2025-10-12T17:25:53.124805Z"
    }
   },
   "cell_type": "code",
   "source": "",
   "id": "5f32ff0e92268be7",
   "outputs": [],
   "execution_count": null
  },
  {
   "metadata": {
    "ExecuteTime": {
     "end_time": "2025-10-12T17:25:50.587587Z",
     "start_time": "2025-10-12T17:25:50.580091Z"
    }
   },
   "cell_type": "code",
   "source": "",
   "id": "d8d342fc7b697a8",
   "outputs": [],
   "execution_count": null
  },
  {
   "metadata": {
    "ExecuteTime": {
     "end_time": "2025-10-12T15:57:00.931969Z",
     "start_time": "2025-10-12T15:57:00.919564Z"
    }
   },
   "cell_type": "code",
   "source": "",
   "id": "74c2916902a92975",
   "outputs": [],
   "execution_count": null
  },
  {
   "metadata": {},
   "cell_type": "code",
   "outputs": [],
   "execution_count": null,
   "source": "",
   "id": "a09c4048f4a4ab1c"
  }
 ],
 "metadata": {
  "kernelspec": {
   "display_name": "Python 3",
   "language": "python",
   "name": "python3"
  },
  "language_info": {
   "codemirror_mode": {
    "name": "ipython",
    "version": 2
   },
   "file_extension": ".py",
   "mimetype": "text/x-python",
   "name": "python",
   "nbconvert_exporter": "python",
   "pygments_lexer": "ipython2",
   "version": "2.7.6"
  }
 },
 "nbformat": 4,
 "nbformat_minor": 5
}
