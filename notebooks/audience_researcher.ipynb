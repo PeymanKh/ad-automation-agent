{
 "cells": [
  {
   "cell_type": "code",
   "execution_count": 2,
   "id": "e785bc04-afba-40b3-b16f-e5c145f83a53",
   "metadata": {},
   "outputs": [],
   "source": [
    "import os\n",
    "os.chdir(\"..\")"
   ]
  },
  {
   "cell_type": "code",
   "execution_count": 3,
   "id": "initial_id",
   "metadata": {
    "ExecuteTime": {
     "end_time": "2025-10-15T14:22:30.465402Z",
     "start_time": "2025-10-15T14:22:29.415525Z"
    }
   },
   "outputs": [
    {
     "name": "stderr",
     "output_type": "stream",
     "text": [
      "2025-10-15 22:55:43,257 - root - INFO - ad-automation-agent settings loaded successfully for development environment.\n"
     ]
    }
   ],
   "source": [
    "# Import libraries\n",
    "import os\n",
    "import logging\n",
    "from enum import Enum\n",
    "\n",
    "from pydantic import BaseModel, Field\n",
    "from typing import Annotated, Dict, List, Sequence, Literal, Optional\n",
    "\n",
    "from langchain_openai import ChatOpenAI\n",
    "from langchain_core.tools import tool\n",
    "from langchain_tavily import TavilySearch\n",
    "from langchain_core.prompts import PromptTemplate\n",
    "from langgraph.graph import StateGraph, START, END, add_messages\n",
    "from langchain_core.messages import ToolMessage, SystemMessage, BaseMessage\n",
    "\n",
    "from src.config.settings import settings\n",
    "from src.agent.utils import get_date_string"
   ]
  },
  {
   "cell_type": "code",
   "execution_count": 5,
   "id": "23ce51d453955e3a",
   "metadata": {
    "ExecuteTime": {
     "end_time": "2025-10-15T14:22:30.507444Z",
     "start_time": "2025-10-15T14:22:30.500879Z"
    }
   },
   "outputs": [],
   "source": [
    "# Set langsmith project\n",
    "os.environ[\"LANGSMITH_API_KEY\"] = settings.langsmith_api_key.get_secret_value()\n",
    "os.environ[\"LANGCHAIN_TRACING_V2\"] = \"true\"\n",
    "os.environ[\"LANGCHAIN_PROJECT\"] = settings.app_name\n",
    "\n",
    "# Suppress all debug logs from urllib3 and langsmith\n",
    "logging.getLogger(\"urllib3\").setLevel(logging.WARNING)\n",
    "logging.getLogger(\"langsmith\").setLevel(logging.WARNING)\n",
    "logging.getLogger(\"openai._base_client\").setLevel(logging.WARNING)\n",
    "logging.getLogger(\"openai._base_client\").setLevel(logging.WARNING)\n",
    "logging.getLogger(\"httpcore\").setLevel(logging.WARNING)\n",
    "logging.getLogger(\"httpx\").setLevel(logging.WARNING)\n",
    "logging.getLogger(\"websockets.client\").setLevel(logging.WARNING)\n",
    "logging.getLogger(\"pyppeteer\").setLevel(logging.WARNING)"
   ]
  },
  {
   "cell_type": "markdown",
   "id": "5c0a988d62794659",
   "metadata": {},
   "source": [
    "---\n",
    "## 1. State"
   ]
  },
  {
   "cell_type": "code",
   "execution_count": 6,
   "id": "e9df6094cae91a5",
   "metadata": {
    "ExecuteTime": {
     "end_time": "2025-10-15T14:22:30.533638Z",
     "start_time": "2025-10-15T14:22:30.529329Z"
    }
   },
   "outputs": [],
   "source": [
    "# Campaign schema\n",
    "class CampaignGoal(str, Enum):\n",
    "    \"\"\"Possible objectives for an advertising campaign\"\"\"\n",
    "    AWARENESS = 'awareness'\n",
    "    TRAFFIC = 'traffic'\n",
    "    ENGAGEMENT = 'engagement'\n",
    "    LEADS = 'leads'\n",
    "    APP_INSTALLS = 'app installs'\n",
    "\n",
    "\n",
    "class AdPlatform(str, Enum):\n",
    "    \"\"\"Specific ad placements across different social platforms\"\"\"\n",
    "    INSTAGRAM_REELS = \"instagram reels\"\n",
    "    INSTAGRAM_STORY = \"instagram video story\"\n",
    "    FACEBOOK_FEEDS = \"facebook feed\"\n",
    "    FACEBOOK_STORY = \"facebook story\"\n",
    "    YOUTUBE_SHORT = \"youtube short\"\n",
    "    TIKTOK_REELS = \"tiktok reels\"\n",
    "\n",
    "\n",
    "class Campaign(BaseModel):\n",
    "    \"\"\"Schema for campaign information\"\"\"\n",
    "    goal: CampaignGoal = Field(\n",
    "        ...,\n",
    "        description=\"Objective for the marketing campaign\"\n",
    "    )\n",
    "    platform: AdPlatform = Field(\n",
    "        ...,\n",
    "        description=\"Specific ad placement for the marketing campaign\"\n",
    "    )"
   ]
  },
  {
   "cell_type": "code",
   "execution_count": 7,
   "id": "fca20064821c75fd",
   "metadata": {
    "ExecuteTime": {
     "end_time": "2025-10-15T14:22:30.557168Z",
     "start_time": "2025-10-15T14:22:30.548785Z"
    }
   },
   "outputs": [],
   "source": [
    "# Target audience schema\n",
    "class Gender(str, Enum):\n",
    "    \"\"\"\n",
    "    Gender identity options for the target audience.\n",
    "    \"\"\"\n",
    "    MALE = \"male\"\n",
    "    FEMALE = \"female\"\n",
    "    ALL = \"male and female\"\n",
    "\n",
    "\n",
    "class Location(str, Enum):\n",
    "    \"\"\"\n",
    "    Location options for the target audience.\n",
    "    \"\"\"\n",
    "    USA = \"united states\"\n",
    "    UK = \"united kingdom\"\n",
    "    CANADA = \"canada\"\n",
    "    AUSTRALIA = \"australia\"\n",
    "\n",
    "\n",
    "class IncomeRange(str, Enum):\n",
    "    \"\"\"\n",
    "    Income range categories for audience segmentation.\n",
    "    \"\"\"\n",
    "    LOW = \"below $30k\"\n",
    "    LOWER_MIDDLE = \"$30k to $60k\"\n",
    "    MIDDLE = \"$60k to $100k\"\n",
    "    UPPER_MIDDLE = \"$100k to $200k\"\n",
    "    HIGH = \"above $200k\"\n",
    "\n",
    "\n",
    "class AgeRange(BaseModel):\n",
    "    min_age: int = Field(\n",
    "        ...,\n",
    "        description=\"Minimum age for the target audience\"\n",
    "    )\n",
    "    max_age: int = Field(\n",
    "        ...,\n",
    "        description=\"Maximum age for the target audience\"\n",
    "    )\n",
    "\n",
    "\n",
    "class TargetAudience(BaseModel):\n",
    "    \"\"\"Audience information schema\"\"\"\n",
    "    gender: Gender = Field(\n",
    "        ...,\n",
    "        description=\"Gender identity for the target audience\"\n",
    "    )\n",
    "    location: Location = Field(\n",
    "        ...,\n",
    "        description=\"Location for the target audience\"\n",
    "    )\n",
    "    income_range: IncomeRange = Field(\n",
    "        ...,\n",
    "        description=\"Income range for the target audience\"\n",
    "    )\n",
    "    age_range: AgeRange = Field(\n",
    "        ...,\n",
    "        description=\"Age range for the target audience\"\n",
    "    )"
   ]
  },
  {
   "cell_type": "code",
   "execution_count": 8,
   "id": "af4c96f5f6e11685",
   "metadata": {
    "ExecuteTime": {
     "end_time": "2025-10-15T14:22:30.605927Z",
     "start_time": "2025-10-15T14:22:30.598397Z"
    }
   },
   "outputs": [],
   "source": [
    "# Product schema\n",
    "class ProductPlatform(str, Enum):\n",
    "    \"\"\"Mobile platforms supported by the product.\"\"\"\n",
    "    ios = \"ios\"\n",
    "    android = \"android\"\n",
    "    web = \"web\"\n",
    "\n",
    "\n",
    "class Product(BaseModel):\n",
    "    \"\"\"Product information\"\"\"\n",
    "    name: str = Field(\n",
    "        ...,\n",
    "        description=\"Name of the product\"\n",
    "    )\n",
    "    description: str = Field(\n",
    "        ...,\n",
    "        description=\"A brief overview of the product\"\n",
    "    )\n",
    "    features: Dict[str, str] = Field(\n",
    "        ...,\n",
    "        description=\"Dictionary mapping feature names to their description\"\n",
    "    )\n",
    "    supported_platforms: List[ProductPlatform] = Field(\n",
    "        ...,\n",
    "        description=\"Supported platforms for the application\"\n",
    "    )"
   ]
  },
  {
   "cell_type": "code",
   "execution_count": 9,
   "id": "25096901-1cd8-4142-b523-37f00d4952ac",
   "metadata": {},
   "outputs": [],
   "source": [
    "# Research_findings\n",
    "class ResearchNote(BaseModel):\n",
    "    query: str = Field(\n",
    "        ...,\n",
    "        description=\"Query for the websearch\"\n",
    "    )\n",
    "    context: str = Field(\n",
    "        ...,\n",
    "        description=\"Compressed findings\"\n",
    "    )\n",
    "    sources: List[str] = Field(\n",
    "        ...,\n",
    "        description=\"List of all resources\"\n",
    "    )"
   ]
  },
  {
   "cell_type": "code",
   "execution_count": 10,
   "id": "d46de89f89adf69f",
   "metadata": {
    "ExecuteTime": {
     "end_time": "2025-10-15T14:22:30.634384Z",
     "start_time": "2025-10-15T14:22:30.628097Z"
    }
   },
   "outputs": [],
   "source": [
    "class AudienceResearchState(BaseModel):\n",
    "    supervisor_messages: Annotated[Sequence[BaseMessage], add_messages] = Field(\n",
    "        default_factory=list,\n",
    "        description=\"History of messages from the supervisor\"\n",
    "    )\n",
    "    campaign: Campaign = Field(\n",
    "        ...,\n",
    "        description=\"Campaign information\"\n",
    "    )\n",
    "    target_audience: TargetAudience = Field(\n",
    "        ...,\n",
    "        description=\"Target audience information\"\n",
    "    )\n",
    "    product: Product = Field(\n",
    "        ...,\n",
    "        description=\"Product information\"\n",
    "    )\n",
    "    raw_research_notes: Annotated[Sequence[ToolMessage], add_messages] = Field(\n",
    "        None,\n",
    "        description=\"List of conduct_research tool results\"\n",
    "    )\n",
    "    research_notes: Annotated[List[ResearchNote], add_messages] = Field(\n",
    "        None,\n",
    "        description=\"List of processed and cleaned conduct_research results\"\n",
    "    )"
   ]
  },
  {
   "cell_type": "markdown",
   "id": "566d8eafdce6c829",
   "metadata": {},
   "source": [
    "---\n",
    "## Prompts"
   ]
  },
  {
   "cell_type": "code",
   "execution_count": 33,
   "id": "e5e106ef96576770",
   "metadata": {
    "ExecuteTime": {
     "end_time": "2025-10-15T14:22:30.661628Z",
     "start_time": "2025-10-15T14:22:30.655453Z"
    }
   },
   "outputs": [],
   "source": [
    "research_instructions_prompt = PromptTemplate(\n",
    "    input_variables=[\"date\", \"campaign\", \"target_audience\", \"product\"],\n",
    "    template=\"\"\"You are a psychological researcher. Your job is to coordinate and perform research for a marketing campaign. for context, today date is {date}.\n",
    "\n",
    "<campaign_info>\n",
    "campaign: {campaign}\n",
    "target_audience: {target_audience}\n",
    "product: {product}\n",
    "</campaign_info>\n",
    "\n",
    "<task>\n",
    "Your primary task is to gather information trough research that can transform provided generic target audience demographics into actionable deep psychological profiles which enables precise, high-impact advertising campaigns.\n",
    "You have a conduct_research tool that searches for answer of your queries in the web and brings the answers back to you. You are responsible for coordinating and performing the research using this tool so that at the end of your research you can answer the following questions:\n",
    "\n",
    "- **Core Values: What fundamental beliefs shape this audience’s preferences and loyalties?**\n",
    "- **Daily routines: What are the regular habits and daily schedules of this audience?**\n",
    "- **Behavioral patterns: What are the typical online and offline behaviors and purchasing habits of this audience?**\n",
    "- **Emotional triggers: what emotionally motivates the audience to pay attention, react, or take action?**\n",
    "- **Decision-making process: how decisions are made, including factors like price sensitivity, reliance on peer reviews, or  influencers’ authority?**\n",
    "- **Pain points/challenges: What unmet needs or problems does this audience face that are relevant to our campaign or product?**\n",
    "</task>\n",
    "\n",
    "<available_tools>\n",
    "1. **conduct_research**: For finding the answer of your queries in the web\n",
    "2. **think_tool**: For reflection and strategic planning during research\n",
    "\n",
    "**CRITICAL: Use think_tool before calling conduct_research to plan your approach, and after each conduct_research to assess progress**\n",
    "</available_tools>\n",
    "\n",
    "<instructions>\n",
    "Adopt the mindset of a professional researcher with limited time and resources. Follow these steps strictly to maximize research effectiveness and depth:\n",
    "\n",
    "1. **Read all details of the campaign, audience, and product carefully before taking any action.**\n",
    "2. **Before starting each research cycle:** Use think_tool to reflect and plan your next query. Define exactly what information you seek, based on the current research goal. If the research topic or question is too broad to answer directly, break it down into specific, focused sub-questions. Prioritize which sub-question to resolve first.\n",
    "3. **Use conduct_research to search for answers about the targeted query/sub-question.**\n",
    "4. **After each conduct_research step:** Use think_tool to process and analyze the results, assess whether the answer is complete or needs elaboration, and refine subsequent queries as needed. If the information found is still too generic, continue narrowing/clarifying your sub-question until actionable, detailed insight is obtained. If enough information has been collected to meaningfully address the current question, move on to the next question or subtopic.\n",
    "</instructions>\n",
    "\n",
    "<constraints>\n",
    "**Tool Call Budgets:**\n",
    "- Hard maximum: 10 conduct_research calls per research session.\n",
    "- Limit: 3 conduct_research calls per main profiling question (Core Values, Daily routines, etc.).\n",
    "\n",
    "**Stopping Rules:**\n",
    "- If your last 2 searches return similar information, or if you can confidently answer the current question, stop further research for that question and move on.\n",
    "- If you reach 10 conduct_research calls in total without sufficient results, stop and summarize findings.\n",
    "</constraints>\n",
    "\n",
    "<final_step>\n",
    "At the end of your research, approve that you have gathered enough information for creating effective audience profile.\n",
    "</final_step>\n",
    "\"\"\"\n",
    ")\n",
    "\n",
    "compress_research_instructions_prompt = PromptTemplate(\n",
    "    input_variables=[\"date\", \"query\", \"results\"],\n",
    "    template=\"\"\"You are a research assistant that has conducted research on a topic by calling web searche tool. Your job is now to clean up the findings, but preserve all of the relevant statements and information that the researcher has gathered. For context, today's date is {date}.\n",
    "\n",
    "<task>\n",
    "Your main task is to process the raw tool call containing results from web search and produce a structured report that:\n",
    "- Aggregates every relevant fact and statement from results, in a clean, well-organized format\n",
    "- Assigns in-text numeric citations (e.g., [1], [2]) for each unique source or URL found in the tool results\n",
    "- Concludes with a full \"Sources\" section—mapping all citation numbers to their corresponding URLs and titles, as found in the tool outputs\n",
    "</task>\n",
    "\n",
    "<guidelines>\n",
    "1. Your report should restate all factual findings and information from the tool results verbatim — DO NOT paraphrase, summarize, or alter any relevant detail or data.\n",
    "2. If the same fact or statement occurs in multiple sources, you may group them but cite all sources that claimed it (e.g., \"...as reported in [1][2][3]\").\n",
    "3. Assign a unique sequential citation number to each URL/source that appears in the raw tool call results, in the order you first reference them.\n",
    "5. Your output should be comprehensive. DO NOT omit or exclude any statement, number, name, or detail that could be relevant to the research question.\n",
    "6. The final \"Sources\" section must list all citations, formatted: [\"[1] Source Title: URL\", [2] Source Title: URL, ...]\n",
    "</guideline>\n",
    "\n",
    "<research_result>\n",
    "query: {query}\n",
    "results: {results}\n",
    "</research_result>\n",
    "\"\"\"\n",
    ")"
   ]
  },
  {
   "cell_type": "markdown",
   "id": "187c09e9378cf64",
   "metadata": {},
   "source": [
    "---\n",
    "## Tools"
   ]
  },
  {
   "cell_type": "code",
   "execution_count": 17,
   "id": "e84d6d048f43b903",
   "metadata": {
    "ExecuteTime": {
     "end_time": "2025-10-15T14:22:31.252106Z",
     "start_time": "2025-10-15T14:22:31.248440Z"
    }
   },
   "outputs": [],
   "source": [
    "# Tool functions\n",
    "def deduplicate_search_results(search_results: dict) -> dict:\n",
    "    \"\"\"\n",
    "    Deduplicate search results by URL to avoid processing duplicate content.\n",
    "\n",
    "    Args:\n",
    "        search_results: List of search result dictionaries\n",
    "\n",
    "    Returns:\n",
    "        Dictionary mapping URLs to unique results\n",
    "    \"\"\"\n",
    "    unique_results = {}\n",
    "\n",
    "    for result in search_results[\"results\"]:\n",
    "        url = result['url']\n",
    "        if url not in unique_results:\n",
    "            unique_results[url] = result[\"content\"]\n",
    "\n",
    "    return unique_results"
   ]
  },
  {
   "cell_type": "code",
   "execution_count": 23,
   "id": "4d2c6eaef602b2eb",
   "metadata": {
    "ExecuteTime": {
     "end_time": "2025-10-15T14:22:31.468249Z",
     "start_time": "2025-10-15T14:22:31.445937Z"
    }
   },
   "outputs": [],
   "source": [
    "# Tool implementation\n",
    "tavily_search = TavilySearch(tavily_api_key=settings.tavily_api_key.get_secret_value(), max_results=3, search_depth=\"advanced\")\n",
    "\n",
    "@tool\n",
    "def conduct_research(query: str) -> dict:\n",
    "    \"\"\"\n",
    "    Searches for information about a given query using Tavily search engine.\n",
    "\n",
    "    Args:\n",
    "        query(str): The query to search for.\n",
    "\n",
    "    Returns:\n",
    "        dict: A dictionary containing the search results and sources.\n",
    "    \"\"\"\n",
    "    # Search for the query\n",
    "    search_result = tavily_search.invoke(query)\n",
    "\n",
    "    # Deduplicate the search results\n",
    "    unique_results = deduplicate_search_results(search_result)\n",
    "\n",
    "    return unique_results\n",
    "\n",
    "\n",
    "@tool\n",
    "def think_tool(reflection: str) -> str:\n",
    "    \"\"\"\n",
    "    Tool for strategic reflection on research progress and decision-making.\n",
    "\n",
    "    Use this tool after each search to analyze results and plan next steps systematically.\n",
    "    This creates a deliberate pause in the research workflow for quality decision-making.\n",
    "\n",
    "    When to use:\n",
    "    - After receiving search results: What key information did I find?\n",
    "    - Before deciding next steps: Do I have enough to answer comprehensively?\n",
    "    - When assessing research gaps: What specific information am I still missing?\n",
    "    - Before concluding research: Can I provide a complete answer now?\n",
    "\n",
    "    Reflection should address:\n",
    "    1. Analysis of current findings - What concrete information have I gathered?\n",
    "    2. Gap assessment - What crucial information is still missing?\n",
    "    3. Quality evaluation - Do I have sufficient evidence/examples for a good answer?\n",
    "    4. Strategic decision - Should I continue searching or provide my answer?\n",
    "\n",
    "    Args:\n",
    "        reflection: Your detailed reflection on research progress, findings, gaps, and next steps\n",
    "\n",
    "    Returns:\n",
    "        Confirmation that reflection was recorded for decision-making\n",
    "    \"\"\"\n",
    "    return f\"Reflection recorded: {reflection}\"\n",
    "\n",
    "tools = [conduct_research, think_tool]\n",
    "tools_by_name = {tool.name: tool for tool in tools}"
   ]
  },
  {
   "cell_type": "markdown",
   "id": "39f9ad11e84aff07",
   "metadata": {},
   "source": [
    "---\n",
    "## Nodes"
   ]
  },
  {
   "cell_type": "code",
   "execution_count": 30,
   "id": "2bb1e48d4a69a741",
   "metadata": {
    "ExecuteTime": {
     "end_time": "2025-10-15T14:22:32.236386Z",
     "start_time": "2025-10-15T14:22:32.069027Z"
    }
   },
   "outputs": [],
   "source": [
    "# Create the model and bind tools\n",
    "model = ChatOpenAI(api_key=settings.open_ai_api_key.get_secret_value(), temperature=0, model=\"gpt-4.1\")\n",
    "model_with_tools = model.bind_tools(tools)"
   ]
  },
  {
   "cell_type": "code",
   "execution_count": 31,
   "id": "6d37bb2a4b4af534",
   "metadata": {
    "ExecuteTime": {
     "end_time": "2025-10-15T14:22:32.754734Z",
     "start_time": "2025-10-15T14:22:32.741284Z"
    }
   },
   "outputs": [],
   "source": [
    "def researcher_node(state: AudienceResearchState):\n",
    "    \"\"\"Agent node responsible for conducting research.\"\"\"\n",
    "    # Extract state variables\n",
    "    campaign = state.campaign.model_dump_json()\n",
    "    target_audience = state.target_audience.model_dump_json()\n",
    "    product = {\"name\": state.product.name, \"description\": test_state.product.description}\n",
    "\n",
    "    # Inject state variables into the researcher prompt\n",
    "    prompt = research_instructions_prompt.format(\n",
    "        date=get_date_string(),\n",
    "        campaign=campaign,\n",
    "        target_audience=target_audience,\n",
    "        product=product\n",
    "    )\n",
    "\n",
    "    # Create messages history\n",
    "    messages = [SystemMessage(content=prompt)] + state.supervisor_messages\n",
    "    return {\"supervisor_messages\": model_with_tools.invoke(messages)}"
   ]
  },
  {
   "cell_type": "code",
   "execution_count": 32,
   "id": "c1b7e54a91fd01f1",
   "metadata": {
    "ExecuteTime": {
     "end_time": "2025-10-15T14:22:33.191330Z",
     "start_time": "2025-10-15T14:22:33.188684Z"
    }
   },
   "outputs": [],
   "source": [
    "def tool_node(state: AudienceResearchState):\n",
    "    \"\"\"\n",
    "    Execute all tool calls from the previous LLM response.\n",
    "\n",
    "    Executes all tool calls from the previous LLM responses.\n",
    "    Returns the updated state with tool execution results.\n",
    "    \"\"\"\n",
    "    tool_calls = state.supervisor_messages[-1].tool_calls\n",
    "\n",
    "    # Execute all tool calls\n",
    "    observations = []\n",
    "    for tool_call in tool_calls:\n",
    "        tool = tools_by_name[tool_call[\"name\"]]\n",
    "        observations.append(tool.invoke(tool_call[\"args\"]))\n",
    "\n",
    "    # Create tool message output\n",
    "    tool_outputs = [\n",
    "        ToolMessage(\n",
    "            content=observation,\n",
    "            name=tool_call[\"name\"],\n",
    "            tool_call_id=tool_call[\"id\"],\n",
    "            query=tool_call[\"args\"]\n",
    "        ) for observation, tool_call in zip(observations, tool_calls)\n",
    "    ]\n",
    "\n",
    "    return {\"raw_research_notes\": tool_outputs}"
   ]
  },
  {
   "cell_type": "code",
   "execution_count": null,
   "id": "3fedc493-232c-4599-bbe6-b8b01d66ccb6",
   "metadata": {},
   "outputs": [],
   "source": [
    "def compress_research_node(state: AudienceResearchState):\n",
    "    \"\"\"\n",
    "    Compress the tool call result into structured output\n",
    "    \"\"\"\n",
    "    last_research = state.raw_research_notes[-1]\n",
    "\n",
    "    # Add structure output to the model\n",
    "    model_with_structured_output = model.with_structured_output(ResearchNote)\n",
    "\n",
    "    # Create prompt\n",
    "    prompt = compress_research_instructions_prompt.format(\n",
    "        date=get_date_string(),\n",
    "        query=raw_research_notes.query\n",
    "        results=raw_research_notes.content\n",
    "    )\n",
    "\n",
    "    compressed_research = model_with_structured_output.invoke(prompt)\n",
    "\n",
    "    # Create Tool message\n",
    "    tool_output = [ToolMessage(\n",
    "        content=compressed_research.context,\n",
    "        name=last_research.name,\n",
    "        tool_call_id=last_research.tool_call_id,\n",
    "        query=last_research.query,\n",
    "        sources=compressed_research.sources\n",
    "    )]\n",
    "\n",
    "    return{\"research_notes\": compressed_research, \"supervisor_messages\": tool_output}"
   ]
  },
  {
   "cell_type": "code",
   "execution_count": 13,
   "id": "b7922de1e5e567e6",
   "metadata": {
    "ExecuteTime": {
     "end_time": "2025-10-15T14:22:33.590216Z",
     "start_time": "2025-10-15T14:22:33.585401Z"
    }
   },
   "outputs": [],
   "source": [
    "# Routing functions\n",
    "def should_continue(state: AudienceResearchState) -> Literal[\"tool_node\", \"__end__\"]:\n",
    "    \"\"\"\n",
    "    Determine whether to continue research or provide the final answer.\n",
    "\n",
    "    Determines whether the agent should continue the research loop or provide\n",
    "    a final answer based on whether the LLM made tool calls.\n",
    "\n",
    "    Returns:\n",
    "        \"tool_node\": Continue to tool execution\n",
    "        \"compress_research\": Stop and compress research\n",
    "    \"\"\"\n",
    "    messages = state.supervisor_messages\n",
    "    last_message = messages[-1]\n",
    "\n",
    "    # If the LLM makes a tool call, continue to tool execution\n",
    "    if last_message.tool_calls:\n",
    "        return \"tool_node\"\n",
    "\n",
    "    return \"__end__\""
   ]
  },
  {
   "cell_type": "code",
   "execution_count": 14,
   "id": "b9d9e24f9442288d",
   "metadata": {
    "ExecuteTime": {
     "end_time": "2025-10-15T14:22:34.604764Z",
     "start_time": "2025-10-15T14:22:34.597617Z"
    }
   },
   "outputs": [],
   "source": [
    "builder = StateGraph(AudienceResearchState)\n",
    "\n",
    "builder.add_node(\"researcher\", researcher_node)\n",
    "builder.add_node(\"tool_node\", tool_node)\n",
    "\n",
    "builder.add_edge(START, \"researcher\")\n",
    "builder.add_conditional_edges(\n",
    "    \"researcher\",\n",
    "    should_continue,\n",
    "    {\n",
    "        \"tool_node\": \"tool_node\",\n",
    "        \"__end__\": END\n",
    "    }\n",
    ")\n",
    "builder.add_edge(\"tool_node\", \"researcher\")\n",
    "builder.add_edge(\"researcher\", END)\n",
    "\n",
    "graph = builder.compile()"
   ]
  },
  {
   "cell_type": "code",
   "execution_count": 15,
   "id": "370e44da6e8e5448",
   "metadata": {
    "ExecuteTime": {
     "end_time": "2025-10-15T14:22:34.942849Z",
     "start_time": "2025-10-15T14:22:34.937750Z"
    }
   },
   "outputs": [],
   "source": [
    "# Test state\n",
    "test_state = AudienceResearchState(\n",
    "    supervisor_messages=[],\n",
    "    campaign=Campaign(\n",
    "        goal=CampaignGoal.AWARENESS,\n",
    "        platform=AdPlatform.INSTAGRAM_REELS,\n",
    "    ),\n",
    "    target_audience=TargetAudience(\n",
    "        gender=Gender.ALL,\n",
    "        location=Location.USA,\n",
    "        income_range=IncomeRange.LOWER_MIDDLE,\n",
    "        age_range=AgeRange(\n",
    "            min_age=25,\n",
    "            max_age=35\n",
    "        )\n",
    "    ),\n",
    "    product=Product(\n",
    "        name=\"Delisio - Your Personal Chef\",\n",
    "        description=\"Delisio is a personal chef and nutrition assistant. When a user signs up, they enter their age, weight, height, diet (e.g., vegan, keto), nutritional goal (e.g., weight loss, muscle gain), allergies, and equipment. Delisio then provides personalized recipes based on preferences and uses AI to personalize the user's food experience.\",\n",
    "        features={\n",
    "            \"Photo to Recipe\": \"User uploads a dish photo, specifies equipment and calorie preference, and Delisio generates a tailored recipe.\",\n",
    "            \"Surprise Me\": \"User selects meal type, cuisine, and equipment, defines calorie goal; Delisio creates a personalized recipe (e.g., vegetarian Chinese breakfast).\",\n",
    "            \"Nutrition Scanner\": \"User scans food; Delisio analyzes and reports nutrients, vitamins, and minerals.\"\n",
    "        },\n",
    "        supported_platforms=[ProductPlatform.ios, ProductPlatform.android]\n",
    "    )\n",
    ")"
   ]
  },
  {
   "cell_type": "code",
   "execution_count": 17,
   "id": "406a5bbcf2126777",
   "metadata": {
    "ExecuteTime": {
     "end_time": "2025-10-15T17:57:23.688407Z",
     "start_time": "2025-10-15T17:55:17.695446Z"
    }
   },
   "outputs": [],
   "source": [
    "state = graph.invoke(test_state, {\"recursion_limit\": 100})"
   ]
  },
  {
   "cell_type": "code",
   "execution_count": 25,
   "id": "74961d4c64cdea1e",
   "metadata": {
    "ExecuteTime": {
     "end_time": "2025-10-15T18:27:26.908559Z",
     "start_time": "2025-10-15T18:27:26.898804Z"
    }
   },
   "outputs": [
    {
     "data": {
      "text/plain": [
       "ToolMessage(content='{\\'https://pmc.ncbi.nlm.nih.gov/articles/PMC9185183/\\': \\'This cross-sectional study examines socioeconomic and geographic factors associated with diet quality in US adults.\\', \\'https://www.sciencedirect.com/science/article/pii/S2161831322007062\\': \\'Themes identified in the foods chosen by young adults include inadequate fruit and vegetable consumption, choosing international flavors and food formats,\\', \\'https://www.sciencedirect.com/science/article/pii/S0022316622002917\\': \\'Participants were recruited between November 2017 and December 2017 into the Primary REasons For Eating Research (PREFER) study, an Internet-based survey that included a DCE, to understand meal preferences in young adults. Individuals were excluded for following a vegan or vegetarian diet because of _1_) potentially greater complexity of influences on food choices; _2_) the low prevalence of vegetarianism and veganism in Australia, as culturally meat-based meals are still the predominant main meal (34); and _3_) chicken is the meat that is most frequently consumed by young adults (35), so it was included in the DCE images, which would not have been appropriate to present to participants following a vegan or vegetarian diet.\\', \\'https://globalnutritionreport.org/reports/2021-global-nutrition-report/health-and-environmental-impacts-of-diets-worldwide/\\': \\'A healthy diet consists of plenty of fruits, vegetables, legumes, nuts/seeds, whole grains and oils high in unsaturated fats, and little to no red and processed meat, sugar-sweetened beverages, refined grains and oils high in saturated fats.[[8]](https://globalnutritionreport.org/reports/2021-global-nutrition-report/health-and-environmental-impacts-of-diets-worldwide/#note-tAffVgP8z)[[9]](https://globalnutritionreport.org/reports/2021-global-nutrition-report/health-and-environmental-impacts-of-diets-worldwide/#note-XoKDADBNa)[[10]](https://globalnutritionreport.org/reports/2021-global-nutrition-report/health-and-environmental-impacts-of-diets-worldwide/#note-e33eoBeFt)[[11]](https://globalnutritionreport.org/reports/2021-global-nutrition-report/health-and-environmental-impacts-of-diets-worldwide/#note-E3gktaL8y) Nutritional epidemiology has identified many of those aspects as key risk factors for or against leading causes of overall illness and death, including coronary heart disease, stroke, type-2 diabetes and several cancers. The assessment combines estimates of food intake with cause-specific mortality rates via a comprehensive set of diet–disease relationships, each accounting for physiological (age, sex) and geographic (country-level) variation.[[44]](https://globalnutritionreport.org/reports/2021-global-nutrition-report/health-and-environmental-impacts-of-diets-worldwide/#note-CjsAaRILB) In this framework, we accounted for risks for diet-related, non-communicable diseases (NCDs) associated with imbalanced diets, such as those low in fruits and vegetables, as well as for risk associated with imbalanced energy intake related to underweight, overweight and obesity.\\', \\'https://www.sciencedirect.com/science/article/pii/S1462901124003095\\': \\'# Understanding food choices in sustainable healthy diets – A systematic literature review on behavioral drivers and barriers Developed the \"SHDs Barriers & Drivers\" framework for Sustainable Healthy Diets. Identified 19 themes related to drivers of adopting a Sustainable Healthy Diet. Identified 22 themes related to barriers to adopting a Sustainable Healthy Diet. Despite extensive research on sustainability, nutrition, and human behaviors related to food consumption, gaps remain in understanding how to effectively promote the adoption of SHDs, especially among vulnerable populations. This systematic literature review (SLR) identifies and analyzes drivers and barriers that influence the adoption of SHDs in high- and upper-middle-income countries, offering insights for policymakers and stakeholders to develop informed actions.\\'}', name='conduct_research', id='2980b226-8ac3-4df8-8034-698c6018d141', tool_call_id='call_mwBJlwnzjeaXOV9sBgztFF2O')"
      ]
     },
     "execution_count": 25,
     "metadata": {},
     "output_type": "execute_result"
    }
   ],
   "source": [
    "state[\"supervisor_messages\"][3]"
   ]
  },
  {
   "cell_type": "code",
   "execution_count": null,
   "id": "8eb433548a3e72e",
   "metadata": {
    "ExecuteTime": {
     "end_time": "2025-10-15T18:25:47.322422Z",
     "start_time": "2025-10-15T18:25:47.316902Z"
    }
   },
   "outputs": [],
   "source": []
  },
  {
   "cell_type": "code",
   "execution_count": null,
   "id": "6ba12f54bab9ba84",
   "metadata": {},
   "outputs": [],
   "source": []
  }
 ],
 "metadata": {
  "kernelspec": {
   "display_name": "Python 3 (ipykernel)",
   "language": "python",
   "name": "python3"
  },
  "language_info": {
   "codemirror_mode": {
    "name": "ipython",
    "version": 3
   },
   "file_extension": ".py",
   "mimetype": "text/x-python",
   "name": "python",
   "nbconvert_exporter": "python",
   "pygments_lexer": "ipython3",
   "version": "3.11.13"
  }
 },
 "nbformat": 4,
 "nbformat_minor": 5
}
